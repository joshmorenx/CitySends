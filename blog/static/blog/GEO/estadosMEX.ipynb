{
 "cells": [
  {
   "cell_type": "code",
   "execution_count": 1,
   "metadata": {},
   "outputs": [],
   "source": [
    "import pandas as pd\n",
    "import geopandas as gpd\n",
    "from shapely import wkt\n",
    "from shapely.geometry import Polygon, Point"
   ]
  },
  {
   "cell_type": "code",
   "execution_count": 2,
   "metadata": {},
   "outputs": [
    {
     "data": {
      "text/html": [
       "<div>\n",
       "<style scoped>\n",
       "    .dataframe tbody tr th:only-of-type {\n",
       "        vertical-align: middle;\n",
       "    }\n",
       "\n",
       "    .dataframe tbody tr th {\n",
       "        vertical-align: top;\n",
       "    }\n",
       "\n",
       "    .dataframe thead th {\n",
       "        text-align: right;\n",
       "    }\n",
       "</style>\n",
       "<table border=\"1\" class=\"dataframe\">\n",
       "  <thead>\n",
       "    <tr style=\"text-align: right;\">\n",
       "      <th></th>\n",
       "      <th>Unnamed: 0</th>\n",
       "      <th>estado</th>\n",
       "      <th>geometry</th>\n",
       "    </tr>\n",
       "  </thead>\n",
       "  <tbody>\n",
       "    <tr>\n",
       "      <th>0</th>\n",
       "      <td>0</td>\n",
       "      <td>ZAC</td>\n",
       "      <td>POLYGON ((-100.83230 24.55490, -100.85400 24.5...</td>\n",
       "    </tr>\n",
       "    <tr>\n",
       "      <th>1</th>\n",
       "      <td>1</td>\n",
       "      <td>YUC</td>\n",
       "      <td>POLYGON ((-87.53860 21.48640, -87.52560 21.287...</td>\n",
       "    </tr>\n",
       "    <tr>\n",
       "      <th>2</th>\n",
       "      <td>2</td>\n",
       "      <td>VER</td>\n",
       "      <td>POLYGON ((-97.79320 22.24960, -97.76810 22.049...</td>\n",
       "    </tr>\n",
       "    <tr>\n",
       "      <th>3</th>\n",
       "      <td>3</td>\n",
       "      <td>TLA</td>\n",
       "      <td>POLYGON ((-98.58490 19.46750, -98.63610 19.481...</td>\n",
       "    </tr>\n",
       "    <tr>\n",
       "      <th>4</th>\n",
       "      <td>4</td>\n",
       "      <td>TAM</td>\n",
       "      <td>POLYGON ((-97.79320 22.24960, -97.87290 22.197...</td>\n",
       "    </tr>\n",
       "  </tbody>\n",
       "</table>\n",
       "</div>"
      ],
      "text/plain": [
       "   Unnamed: 0 estado                                           geometry\n",
       "0           0    ZAC  POLYGON ((-100.83230 24.55490, -100.85400 24.5...\n",
       "1           1    YUC  POLYGON ((-87.53860 21.48640, -87.52560 21.287...\n",
       "2           2    VER  POLYGON ((-97.79320 22.24960, -97.76810 22.049...\n",
       "3           3    TLA  POLYGON ((-98.58490 19.46750, -98.63610 19.481...\n",
       "4           4    TAM  POLYGON ((-97.79320 22.24960, -97.87290 22.197..."
      ]
     },
     "execution_count": 2,
     "metadata": {},
     "output_type": "execute_result"
    }
   ],
   "source": [
    "df = pd.read_csv('poligonos_mx.csv') #Se lee el csv como un dataframe normal y después se convierte a geodataframe\n",
    "df['geometry'] = df['geometry'].apply(wkt.loads)\n",
    "gdf = gpd.GeoDataFrame(df, crs='epsg:4326')\n",
    "gdf.head()"
   ]
  },
  {
   "cell_type": "code",
   "execution_count": 5,
   "metadata": {},
   "outputs": [
    {
     "data": {
      "text/html": [
       "<div>\n",
       "<style scoped>\n",
       "    .dataframe tbody tr th:only-of-type {\n",
       "        vertical-align: middle;\n",
       "    }\n",
       "\n",
       "    .dataframe tbody tr th {\n",
       "        vertical-align: top;\n",
       "    }\n",
       "\n",
       "    .dataframe thead th {\n",
       "        text-align: right;\n",
       "    }\n",
       "</style>\n",
       "<table border=\"1\" class=\"dataframe\">\n",
       "  <thead>\n",
       "    <tr style=\"text-align: right;\">\n",
       "      <th></th>\n",
       "      <th>Index</th>\n",
       "      <th>Id</th>\n",
       "      <th>Post</th>\n",
       "      <th>Fecha</th>\n",
       "      <th>Latitud</th>\n",
       "      <th>Longitud</th>\n",
       "    </tr>\n",
       "  </thead>\n",
       "  <tbody>\n",
       "    <tr>\n",
       "      <th>0</th>\n",
       "      <td>1</td>\n",
       "      <td>emmanuel</td>\n",
       "      <td>Publicacion con imagen</td>\n",
       "      <td>Aug. 31, 2021, 12:14 a.m.</td>\n",
       "      <td>20.967370</td>\n",
       "      <td>-89.592586</td>\n",
       "    </tr>\n",
       "    <tr>\n",
       "      <th>1</th>\n",
       "      <td>2</td>\n",
       "      <td>emmanuel</td>\n",
       "      <td>publicacion con latitud y longitud</td>\n",
       "      <td>Sept. 8, 2021, 2:56 a.m.</td>\n",
       "      <td>20.968147</td>\n",
       "      <td>-89.629872</td>\n",
       "    </tr>\n",
       "  </tbody>\n",
       "</table>\n",
       "</div>"
      ],
      "text/plain": [
       "   Index        Id                                Post  \\\n",
       "0      1  emmanuel              Publicacion con imagen   \n",
       "1      2  emmanuel  publicacion con latitud y longitud   \n",
       "\n",
       "                       Fecha    Latitud   Longitud  \n",
       "0  Aug. 31, 2021, 12:14 a.m.  20.967370 -89.592586  \n",
       "1   Sept. 8, 2021, 2:56 a.m.  20.968147 -89.629872  "
      ]
     },
     "execution_count": 5,
     "metadata": {},
     "output_type": "execute_result"
    }
   ],
   "source": [
    "df_miso = pd.read_csv('citysends20oct21.csv')\n",
    "df_miso.head()"
   ]
  },
  {
   "cell_type": "code",
   "execution_count": 6,
   "metadata": {},
   "outputs": [
    {
     "data": {
      "text/html": [
       "<div>\n",
       "<style scoped>\n",
       "    .dataframe tbody tr th:only-of-type {\n",
       "        vertical-align: middle;\n",
       "    }\n",
       "\n",
       "    .dataframe tbody tr th {\n",
       "        vertical-align: top;\n",
       "    }\n",
       "\n",
       "    .dataframe thead th {\n",
       "        text-align: right;\n",
       "    }\n",
       "</style>\n",
       "<table border=\"1\" class=\"dataframe\">\n",
       "  <thead>\n",
       "    <tr style=\"text-align: right;\">\n",
       "      <th></th>\n",
       "      <th>Id</th>\n",
       "      <th>Post</th>\n",
       "      <th>Fecha</th>\n",
       "      <th>Latitud</th>\n",
       "      <th>Longitud</th>\n",
       "      <th>Estado</th>\n",
       "    </tr>\n",
       "  </thead>\n",
       "  <tbody>\n",
       "  </tbody>\n",
       "</table>\n",
       "</div>"
      ],
      "text/plain": [
       "Empty DataFrame\n",
       "Columns: [Id, Post, Fecha, Latitud, Longitud, Estado]\n",
       "Index: []"
      ]
     },
     "execution_count": 6,
     "metadata": {},
     "output_type": "execute_result"
    }
   ],
   "source": [
    "columnas = ['Id','Post','Fecha','Latitud','Longitud','Estado']\n",
    "df_miso_estado = pd.DataFrame(columns = columnas)\n",
    "df_miso_estado.head()"
   ]
  },
  {
   "cell_type": "code",
   "execution_count": 7,
   "metadata": {},
   "outputs": [],
   "source": [
    "def dime_estado(lon, lat):\n",
    "    estado = 'Fuera de México'\n",
    "    band = 0\n",
    "    point = Point(lon, lat)\n",
    "    for index, row in gdf.iterrows():\n",
    "        poligon = gdf['geometry'][index]\n",
    "        if poligon.contains(point):\n",
    "            estado = gdf['estado'][index]\n",
    "            band = 1\n",
    "            break\n",
    "    return estado    "
   ]
  },
  {
   "cell_type": "code",
   "execution_count": 8,
   "metadata": {},
   "outputs": [],
   "source": [
    "for index, row in df_miso.iterrows():\n",
    "    ide = row['Id']\n",
    "    post = row['Post']\n",
    "    datetime = row['Fecha']\n",
    "    lat = row['Latitud']\n",
    "    lon = row['Longitud']\n",
    "    estado = dime_estado(lon, lat)\n",
    "    df_miso_estado = df_miso_estado.append({'Id':ide,'Post':post,'Fecha':datetime,'Latitud':lat,'Longitud':lon,'Estado':estado}, ignore_index=True)"
   ]
  },
  {
   "cell_type": "code",
   "execution_count": 9,
   "metadata": {},
   "outputs": [
    {
     "data": {
      "text/html": [
       "<div>\n",
       "<style scoped>\n",
       "    .dataframe tbody tr th:only-of-type {\n",
       "        vertical-align: middle;\n",
       "    }\n",
       "\n",
       "    .dataframe tbody tr th {\n",
       "        vertical-align: top;\n",
       "    }\n",
       "\n",
       "    .dataframe thead th {\n",
       "        text-align: right;\n",
       "    }\n",
       "</style>\n",
       "<table border=\"1\" class=\"dataframe\">\n",
       "  <thead>\n",
       "    <tr style=\"text-align: right;\">\n",
       "      <th></th>\n",
       "      <th>Id</th>\n",
       "      <th>Post</th>\n",
       "      <th>Fecha</th>\n",
       "      <th>Latitud</th>\n",
       "      <th>Longitud</th>\n",
       "      <th>Estado</th>\n",
       "    </tr>\n",
       "  </thead>\n",
       "  <tbody>\n",
       "    <tr>\n",
       "      <th>0</th>\n",
       "      <td>emmanuel</td>\n",
       "      <td>Publicacion con imagen</td>\n",
       "      <td>Aug. 31, 2021, 12:14 a.m.</td>\n",
       "      <td>20.967370</td>\n",
       "      <td>-89.592586</td>\n",
       "      <td>YUC</td>\n",
       "    </tr>\n",
       "    <tr>\n",
       "      <th>1</th>\n",
       "      <td>emmanuel</td>\n",
       "      <td>publicacion con latitud y longitud</td>\n",
       "      <td>Sept. 8, 2021, 2:56 a.m.</td>\n",
       "      <td>20.968147</td>\n",
       "      <td>-89.629872</td>\n",
       "      <td>YUC</td>\n",
       "    </tr>\n",
       "  </tbody>\n",
       "</table>\n",
       "</div>"
      ],
      "text/plain": [
       "         Id                                Post                      Fecha  \\\n",
       "0  emmanuel              Publicacion con imagen  Aug. 31, 2021, 12:14 a.m.   \n",
       "1  emmanuel  publicacion con latitud y longitud   Sept. 8, 2021, 2:56 a.m.   \n",
       "\n",
       "     Latitud   Longitud Estado  \n",
       "0  20.967370 -89.592586    YUC  \n",
       "1  20.968147 -89.629872    YUC  "
      ]
     },
     "execution_count": 9,
     "metadata": {},
     "output_type": "execute_result"
    }
   ],
   "source": [
    "df_miso_estado.head()"
   ]
  },
  {
   "cell_type": "code",
   "execution_count": 10,
   "metadata": {},
   "outputs": [
    {
     "data": {
      "text/html": [
       "<div>\n",
       "<style scoped>\n",
       "    .dataframe tbody tr th:only-of-type {\n",
       "        vertical-align: middle;\n",
       "    }\n",
       "\n",
       "    .dataframe tbody tr th {\n",
       "        vertical-align: top;\n",
       "    }\n",
       "\n",
       "    .dataframe thead th {\n",
       "        text-align: right;\n",
       "    }\n",
       "</style>\n",
       "<table border=\"1\" class=\"dataframe\">\n",
       "  <thead>\n",
       "    <tr style=\"text-align: right;\">\n",
       "      <th></th>\n",
       "      <th>Id</th>\n",
       "      <th>Post</th>\n",
       "      <th>Fecha</th>\n",
       "      <th>Latitud</th>\n",
       "      <th>Longitud</th>\n",
       "      <th>Estado</th>\n",
       "    </tr>\n",
       "  </thead>\n",
       "  <tbody>\n",
       "    <tr>\n",
       "      <th>0</th>\n",
       "      <td>emmanuel</td>\n",
       "      <td>Publicacion con imagen</td>\n",
       "      <td>Aug. 31, 2021, 12:14 a.m.</td>\n",
       "      <td>20.967370</td>\n",
       "      <td>-89.592586</td>\n",
       "      <td>YUC</td>\n",
       "    </tr>\n",
       "    <tr>\n",
       "      <th>1</th>\n",
       "      <td>emmanuel</td>\n",
       "      <td>publicacion con latitud y longitud</td>\n",
       "      <td>Sept. 8, 2021, 2:56 a.m.</td>\n",
       "      <td>20.968147</td>\n",
       "      <td>-89.629872</td>\n",
       "      <td>YUC</td>\n",
       "    </tr>\n",
       "  </tbody>\n",
       "</table>\n",
       "</div>"
      ],
      "text/plain": [
       "         Id                                Post                      Fecha  \\\n",
       "0  emmanuel              Publicacion con imagen  Aug. 31, 2021, 12:14 a.m.   \n",
       "1  emmanuel  publicacion con latitud y longitud   Sept. 8, 2021, 2:56 a.m.   \n",
       "\n",
       "     Latitud   Longitud Estado  \n",
       "0  20.967370 -89.592586    YUC  \n",
       "1  20.968147 -89.629872    YUC  "
      ]
     },
     "execution_count": 10,
     "metadata": {},
     "output_type": "execute_result"
    }
   ],
   "source": [
    "df_miso_estado.tail()"
   ]
  },
  {
   "cell_type": "code",
   "execution_count": null,
   "metadata": {},
   "outputs": [],
   "source": []
  }
 ],
 "metadata": {
  "kernelspec": {
   "display_name": "Python 3 (ipykernel)",
   "language": "python",
   "name": "python3"
  },
  "language_info": {
   "codemirror_mode": {
    "name": "ipython",
    "version": 3
   },
   "file_extension": ".py",
   "mimetype": "text/x-python",
   "name": "python",
   "nbconvert_exporter": "python",
   "pygments_lexer": "ipython3",
   "version": "3.8.10"
  }
 },
 "nbformat": 4,
 "nbformat_minor": 4
}
